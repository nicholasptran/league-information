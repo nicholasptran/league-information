{
 "cells": [
  {
   "cell_type": "code",
   "execution_count": 17,
   "metadata": {},
   "outputs": [],
   "source": [
    "from os import environ\n",
    "from dotenv import load_dotenv\n",
    "from cassiopeia import *\n",
    "import cassiopeia as cass\n",
    "import pandas as pd\n",
    "\n",
    "load_dotenv(\"../\")\n",
    "\n",
    "RIOT_API = environ[\"RIOT_API\"]\n",
    "\n",
    "cass.set_riot_api_key(RIOT_API)"
   ]
  },
  {
   "cell_type": "code",
   "execution_count": 18,
   "metadata": {},
   "outputs": [],
   "source": [
    "yogurtsauce = Summoner(name=\"yogurtsauce\", region=\"NA\")"
   ]
  },
  {
   "cell_type": "code",
   "execution_count": 15,
   "metadata": {},
   "outputs": [
    {
     "data": {
      "text/plain": [
       "'yogurtsauce'"
      ]
     },
     "execution_count": 15,
     "metadata": {},
     "output_type": "execute_result"
    }
   ],
   "source": [
    "yogurtsauce.name\n"
   ]
  },
  {
   "cell_type": "code",
   "execution_count": 24,
   "metadata": {},
   "outputs": [
    {
     "name": "stdout",
     "output_type": "stream",
     "text": [
      "Summoner(id=U8TV9fzVGKAowHPEnCZt2CMAp4_mgDtYirzNGEiAXJoZn4Q, account_id=jwWp9hL3BhaB8yVFHiTiKpYprW-dte-xemlv_M8cMXFD3Q, name='yogurtsauce', puuid='0_Z8M5TjaB96qj5ncZ3ewtq3H6CrLW6znsMYjxQ0Cgcrjr5N72FCnBVahB024J_o0biXH3Vi1TyBqw')\n"
     ]
    }
   ],
   "source": [
    "print(yogurtsauce)"
   ]
  },
  {
   "cell_type": "code",
   "execution_count": 16,
   "metadata": {},
   "outputs": [
    {
     "data": {
      "text/plain": [
       "507"
      ]
     },
     "execution_count": 16,
     "metadata": {},
     "output_type": "execute_result"
    }
   ],
   "source": [
    "yogurtsauce.level"
   ]
  },
  {
   "cell_type": "code",
   "execution_count": null,
   "metadata": {},
   "outputs": [],
   "source": []
  }
 ],
 "metadata": {
  "kernelspec": {
   "display_name": "league-information-UBRu2T-6-py3.8",
   "language": "python",
   "name": "python3"
  },
  "language_info": {
   "codemirror_mode": {
    "name": "ipython",
    "version": 3
   },
   "file_extension": ".py",
   "mimetype": "text/x-python",
   "name": "python",
   "nbconvert_exporter": "python",
   "pygments_lexer": "ipython3",
   "version": "3.8.10"
  },
  "orig_nbformat": 4
 },
 "nbformat": 4,
 "nbformat_minor": 2
}
